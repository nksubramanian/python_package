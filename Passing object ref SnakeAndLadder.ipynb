{
  "nbformat": 4,
  "nbformat_minor": 0,
  "metadata": {
    "colab": {
      "name": "Latest SnakeAndLadder.ipynb",
      "provenance": [],
      "authorship_tag": "ABX9TyNZI9ObfAC6MXt5QppYKDiR",
      "include_colab_link": true
    },
    "kernelspec": {
      "name": "python3",
      "display_name": "Python 3"
    }
  },
  "cells": [
    {
      "cell_type": "markdown",
      "metadata": {
        "id": "view-in-github",
        "colab_type": "text"
      },
      "source": [
        "<a href=\"https://colab.research.google.com/github/pythoncoder100/python_package/blob/main/Passing%20object%20ref%20SnakeAndLadder.ipynb\" target=\"_parent\"><img src=\"https://colab.research.google.com/assets/colab-badge.svg\" alt=\"Open In Colab\"/></a>"
      ]
    },
    {
      "cell_type": "code",
      "metadata": {
        "id": "lpqzr_RN-j1N"
      },
      "source": [
        "class SnakeAndLadder:\r\n",
        "    _all_position = set(range(1, 50))\r\n",
        "    _snake = [14, 23, 43, 47]\r\n",
        "    _snake_effect = [2, 8, 41, 37]\r\n",
        "    _ladder = [5, 12, 16, 19, 35, 40]\r\n",
        "    _ladder_effect = [10, 26, 29, 33, 36, 45]\r\n",
        "    #object1 = Printer()\r\n",
        "    def __init__(self, position, money_available,object1):\r\n",
        "      self.object1=object1\r\n",
        "      self.position = position\r\n",
        "      self.money_available = money_available\r\n",
        "\r\n",
        "    def update_states(self, dice_roll):\r\n",
        "        if (self.position + dice_roll) not in self._all_position:\r\n",
        "            self.money_available = self.money_available - 10\r\n",
        "\r\n",
        "        else:\r\n",
        "            if self.position + dice_roll in self._snake:\r\n",
        "                self.position = self._snake_effect[self._snake.index(self.position + dice_roll)]\r\n",
        "                self.money_available = self.money_available - 100\r\n",
        "            elif self.position + dice_roll in self._ladder:\r\n",
        "                self.position = self._ladder_effect[self._ladder.index(self.position + dice_roll)]\r\n",
        "                self.money_available = self.money_available + 100\r\n",
        "            else:\r\n",
        "                self.position = self.position + dice_roll\r\n",
        "\r\n",
        "    def print_state(self):\r\n",
        "        print(\"You are in position \" + str(self.position) + \" and availabe money is \" + str(self.money_available))\r\n",
        "\r\n",
        "    def conclude_game(self):\r\n",
        "        if self.money_available <= 0:\r\n",
        "            print(\"You lost\")\r\n",
        "            return -1\r\n",
        "        elif self.position == 49:\r\n",
        "            print(\"You won\")\r\n",
        "            return 1\r\n",
        "        else:\r\n",
        "            return 0\r\n",
        "\r\n",
        "    def play_onemove(self, dice_roll):\r\n",
        "        # print(\"I am right below\")\r\n",
        "        self.update_states(dice_roll)\r\n",
        "        # print(\"I am below move\")\r\n",
        "        self.object1.print_screen(self.position,self.money_available)\r\n",
        "        #self.object1.print_screen(3,3)\r\n",
        "        return self.conclude_game()"
      ],
      "execution_count": null,
      "outputs": []
    },
    {
      "cell_type": "code",
      "metadata": {
        "id": "aXOp5pN9AbAU"
      },
      "source": [
        "class Printer():\r\n",
        "  def print_screen(self,a,b):\r\n",
        "    print(\"You are in position \" + str(a) + \" and availabe money is \" + str(b))\r\n",
        "    "
      ],
      "execution_count": null,
      "outputs": []
    },
    {
      "cell_type": "code",
      "metadata": {
        "colab": {
          "base_uri": "https://localhost:8080/"
        },
        "id": "sZLdGejVBCHC",
        "outputId": "3e4dd048-1f59-4255-8e52-7e1ff0b27005"
      },
      "source": [
        "object1 = Printer()\r\n",
        "first_game = SnakeAndLadder(1, 500,object1)\r\n",
        "valid_dicerolls = set(range(1, 7))\r\n",
        "\r\n",
        "while True:\r\n",
        "  val = input(\"Enter the die value: \")\r\n",
        "  if int(val) not in valid_dicerolls:\r\n",
        "    raise Exception(\"Invalid Dice value\")\r\n",
        "  if first_game.play_onemove(int(val)) != 0:\r\n",
        "    break\r\n",
        "    \r\n",
        "        \r\n"
      ],
      "execution_count": null,
      "outputs": [
        {
          "output_type": "stream",
          "text": [
            "Enter the die value: 5\n",
            "You are in position 6 and availabe money is 500\n",
            "Enter the die value: 5\n",
            "You are in position 11 and availabe money is 500\n",
            "Enter the die value: 6\n",
            "You are in position 17 and availabe money is 500\n",
            "Enter the die value: 5\n",
            "You are in position 22 and availabe money is 500\n",
            "Enter the die value: 4\n",
            "You are in position 26 and availabe money is 500\n",
            "Enter the die value: 5\n",
            "You are in position 31 and availabe money is 500\n",
            "Enter the die value: 3\n",
            "You are in position 34 and availabe money is 500\n",
            "Enter the die value: 5\n",
            "You are in position 39 and availabe money is 500\n",
            "Enter the die value: 5\n",
            "You are in position 44 and availabe money is 500\n",
            "Enter the die value: 5\n",
            "You are in position 49 and availabe money is 500\n",
            "You won\n"
          ],
          "name": "stdout"
        }
      ]
    },
    {
      "cell_type": "code",
      "metadata": {
        "colab": {
          "base_uri": "https://localhost:8080/"
        },
        "id": "TPRHxIOEBa7A",
        "outputId": "fd1eceed-962b-408c-aa5c-c538fc661b29"
      },
      "source": [
        "5\r\n",
        "55\r\n"
      ],
      "execution_count": null,
      "outputs": [
        {
          "output_type": "execute_result",
          "data": {
            "text/plain": [
              "55"
            ]
          },
          "metadata": {
            "tags": []
          },
          "execution_count": 54
        }
      ]
    },
    {
      "cell_type": "code",
      "metadata": {
        "id": "XCjub_nrBjmf"
      },
      "source": [
        ""
      ],
      "execution_count": null,
      "outputs": []
    },
    {
      "cell_type": "code",
      "metadata": {
        "id": "81OgwmXJMNzp"
      },
      "source": [
        ""
      ],
      "execution_count": null,
      "outputs": []
    }
  ]
}